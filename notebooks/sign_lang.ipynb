{
 "cells": [
  {
   "cell_type": "markdown",
   "id": "15e17303",
   "metadata": {
    "deletable": false,
    "editable": false,
    "nbgrader": {
     "cell_type": "markdown",
     "checksum": "fe8515d8e0eb388ce79930ea7b6c63cb",
     "grade": false,
     "grade_id": "cell-14bdc41e163110b6",
     "locked": true,
     "schema_version": 3,
     "solution": false,
     "task": false
    }
   },
   "source": [
    "# Sign Language Dataset"
   ]
  },
  {
   "cell_type": "markdown",
   "id": "0380380d",
   "metadata": {
    "deletable": false,
    "editable": false,
    "nbgrader": {
     "cell_type": "markdown",
     "checksum": "340354f8bc0f0c53961e7f6762bd47e8",
     "grade": false,
     "grade_id": "cell-51db7564f748aef7",
     "locked": true,
     "schema_version": 3,
     "solution": false,
     "task": false
    }
   },
   "source": [
    "The Sign Language Dataset consists of 9680 grayscale images of hand signs for the digits 0-9 and the alphabets a-z. Thus, this is a multiclass classification problem with 36 classes. Your task is to build a machine learning model that can accurately classify images from this dataset."
   ]
  },
  {
   "cell_type": "markdown",
   "id": "87790d5e",
   "metadata": {
    "deletable": false,
    "editable": false,
    "nbgrader": {
     "cell_type": "markdown",
     "checksum": "dfd3766dc129d20a384b6fe374f898ba",
     "grade": false,
     "grade_id": "cell-e4af33c6fde73887",
     "locked": true,
     "schema_version": 3,
     "solution": false,
     "task": false
    }
   },
   "source": [
    "## Loading the dataset\n",
    "\n",
    "You **do not** need to upload any data. Both the visible training dataset and the hidden test dataset are already available on the Jupyter hub."
   ]
  },
  {
   "cell_type": "code",
   "execution_count": null,
   "id": "cf043b71",
   "metadata": {
    "deletable": false,
    "editable": false,
    "nbgrader": {
     "cell_type": "code",
     "checksum": "ef93277d6faf4a26d52b648647386063",
     "grade": false,
     "grade_id": "cell-8c7257ef51480021",
     "locked": true,
     "schema_version": 3,
     "solution": false,
     "task": false
    }
   },
   "outputs": [],
   "source": [
    "import os\n",
    "import csv\n",
    "import cv2\n",
    "import random\n",
    "import numpy as np\n",
    "import matplotlib.pyplot as plt"
   ]
  },
  {
   "cell_type": "code",
   "execution_count": null,
   "id": "4df5ed83",
   "metadata": {
    "deletable": false,
    "editable": false,
    "nbgrader": {
     "cell_type": "code",
     "checksum": "a02a22a7620265e33abf343ddd5473e7",
     "grade": false,
     "grade_id": "cell-636bfe55501bec94",
     "locked": true,
     "schema_version": 3,
     "solution": false,
     "task": false
    }
   },
   "outputs": [],
   "source": [
    "# Setting the path of the training dataset (that was already provided to you)\n",
    "\n",
    "running_local = True if os.getenv('JUPYTERHUB_USER') is None else False\n",
    "DATASET_PATH = \".\"\n",
    "\n",
    "# Set the location of the dataset\n",
    "if running_local:\n",
    "    # If running on your local machine, the sign_lang_train folder's path should be specified here\n",
    "    local_path = \"sign_lang_train\"\n",
    "    if os.path.exists(local_path):\n",
    "        DATASET_PATH = local_path\n",
    "else:\n",
    "    # If running on the Jupyter hub, this data folder is already available\n",
    "    # You DO NOT need to upload the data!\n",
    "    DATASET_PATH = \"/data/mlproject22/sign_lang_train\""
   ]
  },
  {
   "cell_type": "code",
   "execution_count": null,
   "id": "ba210aa6",
   "metadata": {
    "deletable": false,
    "editable": false,
    "nbgrader": {
     "cell_type": "code",
     "checksum": "80e80b0135d964a577c59224e58423d4",
     "grade": false,
     "grade_id": "cell-8532dde78b48d38e",
     "locked": true,
     "schema_version": 3,
     "solution": false,
     "task": false
    }
   },
   "outputs": [],
   "source": [
    "# Utility function\n",
    "\n",
    "def read_csv(csv_file):\n",
    "    with open(csv_file, newline='') as f:\n",
    "        reader = csv.reader(f)\n",
    "        data = list(reader)\n",
    "    return data"
   ]
  },
  {
   "cell_type": "markdown",
   "id": "444d7052",
   "metadata": {
    "deletable": false,
    "editable": false,
    "nbgrader": {
     "cell_type": "markdown",
     "checksum": "bc0334c0cfa0645319a201d00563c638",
     "grade": false,
     "grade_id": "cell-f6ce53d70b7a4b20",
     "locked": true,
     "schema_version": 3,
     "solution": false,
     "task": false
    }
   },
   "source": [
    "## Data Loading using PyTorch\n",
    "\n",
    "For creating and training your model, you can work with any machine learning library of your choice. \n",
    "\n",
    "If you choose to work with [PyTorch](https://pytorch.org/), you will need to create your own [Dataset](https://pytorch.org/docs/stable/data.html#torch.utils.data.Dataset) class for loading the data. This is provided below. See [here](https://pytorch.org/tutorials/beginner/data_loading_tutorial.html) for a nice example of how to create a custom data loading pipeline in PyTorch. "
   ]
  },
  {
   "cell_type": "code",
   "execution_count": null,
   "id": "dfc4dace",
   "metadata": {
    "deletable": false,
    "editable": false,
    "nbgrader": {
     "cell_type": "code",
     "checksum": "d630842cb12330f47d985a7d0f22823f",
     "grade": false,
     "grade_id": "cell-0e305bc0958e0408",
     "locked": true,
     "schema_version": 3,
     "solution": false,
     "task": false
    }
   },
   "outputs": [],
   "source": [
    "import torch\n",
    "from torch.utils.data import Dataset, DataLoader, random_split\n",
    "from torchvision import transforms, utils, io\n",
    "from torchvision.utils import make_grid\n",
    "\n",
    "from string import ascii_lowercase\n",
    "\n",
    "class SignLangDataset(Dataset):\n",
    "    \"\"\"Sign language dataset\"\"\"\n",
    "\n",
    "    def __init__(self, csv_file, root_dir, class_index_map=None, transform=None):\n",
    "        \"\"\"\n",
    "        Args:\n",
    "            csv_file (string): Path to the csv file with annotations.\n",
    "            root_dir (string): Directory with all the images.\n",
    "            transform (callable, optional): Optional transform to be applied on a sample.\n",
    "        \"\"\"\n",
    "        self.data = read_csv(os.path.join(root_dir,csv_file))\n",
    "        self.root_dir = root_dir\n",
    "        self.class_index_map = class_index_map\n",
    "        self.transform = transform\n",
    "        # List of class names in order\n",
    "        self.class_names = list(map(str, list(range(10)))) + list(ascii_lowercase)\n",
    "\n",
    "    def __len__(self):\n",
    "        \"\"\"\n",
    "        Calculates the length of the dataset-\n",
    "        \"\"\"\n",
    "        return len(self.data)\n",
    "\n",
    "    def __getitem__(self, idx):\n",
    "        \"\"\"\n",
    "        Returns one sample (dict consisting of an image and its label)\n",
    "        \"\"\"\n",
    "        if torch.is_tensor(idx):\n",
    "            idx = idx.tolist()\n",
    "\n",
    "        # Read the image and labels\n",
    "        image_path = os.path.join(self.root_dir, self.data[idx][1])\n",
    "        image = cv2.imread(image_path, cv2.IMREAD_GRAYSCALE)\n",
    "        # Shape of the image should be H,W,C where C=1\n",
    "        image = np.expand_dims(image, 0)\n",
    "        # The label is the index of the class name in the list ['0','1',...,'9','a','b',...'z']\n",
    "        # because we should have integer labels in the range 0-35 (for 36 classes)\n",
    "        label = self.class_names.index(self.data[idx][0])\n",
    "                \n",
    "        sample = {'image': image, 'label': label}\n",
    "\n",
    "        #if self.transform:\n",
    "        #    sample = self.transform(sample)\n",
    "\n",
    "        return sample"
   ]
  },
  {
   "cell_type": "markdown",
   "id": "1d9ec082",
   "metadata": {
    "deletable": false,
    "editable": false,
    "nbgrader": {
     "cell_type": "markdown",
     "checksum": "f03a81c186cc5531728e6c012d0efd57",
     "grade": false,
     "grade_id": "cell-a177a28ccf1ee8bb",
     "locked": true,
     "schema_version": 3,
     "solution": false,
     "task": false
    }
   },
   "source": [
    "## Prediction Stub\n",
    "\n",
    "You will need to provide a function that can be used to make predictions using your final trained model. \n",
    "\n",
    "**IMPORTANT**\n",
    "\n",
    "1. The name of your prediction function must be `leader_board_predict_fn`\n",
    "2. Your prediction function should be able take as input a 4-D numpy array of shape [batch_size,1,128,128] and produce predictions in the form of a 1-D numpy array of shape [batch_size,]. \n",
    "3. Predictions for each image should be an integer in the range 0-35, that is `0` for the digit $0$, `1` for the digit $1$, .... , `9` for the digit $9$, `10` for the letter $a$, `11` for the letter $b$, ..., `35` for the letter $z$.\n",
    "4. Your prediction function should internally load your trained model and take care of any data transformations that you need.\n",
    "\n",
    "Below we provide an implementation of the `leader_board_predict_fn` function, in which we show how a trained model can be loaded (from the weights saved on the disk) for making predictions. This example is for PyTorch, but you are free to use any framework of your choice for your model. The only requirement is that this function should accept a numpy array (with the proper shape) as the input and should produce a numpy array (with the proper shape) as the output. What you do internally is up to you.\n",
    "\n",
    "Note that the model that we load here is not properly trained and so its performance is very bad. This example is only for showing you how a model can be loaded in PyTorch and how predictions can be made."
   ]
  },
  {
   "cell_type": "code",
   "execution_count": null,
   "id": "f2f8f100",
   "metadata": {
    "deletable": false,
    "nbgrader": {
     "cell_type": "code",
     "checksum": "23c72c17b1ca862857647d412ae648ff",
     "grade": false,
     "grade_id": "cell-81520c1b1e481ca2",
     "locked": false,
     "schema_version": 3,
     "solution": true,
     "task": false
    },
    "tags": []
   },
   "outputs": [],
   "source": [
    " def leader_board_predict_fn(input_batch):\n",
    "    \"\"\"\n",
    "    Function for making predictions using your trained model.\n",
    "    \n",
    "    Args:\n",
    "        input_batch (numpy array): Input images (4D array of shape \n",
    "                                   [batch_size, 1, 128, 128])\n",
    "\n",
    "    Returns:\n",
    "        output (numpy array): Predictions of the your trained model \n",
    "                             (1D array of int (0-35) of shape [batch_size, ])\n",
    "    \"\"\"\n",
    "    prediction = None\n",
    "    \n",
    "    batch_size, channels, height, width = input_batch.shape\n",
    "    \n",
    "       \n",
    "    ### BEGIN EXAMPLE \n",
    "    \n",
    "    # Load the network definition\n",
    "    from dummy_network import DummyNetwork\n",
    "    \n",
    "    # Instantiate the network and set the data type\n",
    "    dummy_network = DummyNetwork().float()\n",
    "    \n",
    "    # Load the saved weights from the disk\n",
    "    dummy_network.load_state_dict(torch.load(\"dummy_weights.pt\"))\n",
    "    \n",
    "    # Set the network to evaluation mode\n",
    "    dummy_network.eval()\n",
    "    \n",
    "    # VERY IMPORTANT\n",
    "    # Convert the input batch to a torch Tensor and set\n",
    "    # the data type to the same type as the network\n",
    "    input_batch = torch.from_numpy(input_batch).float()\n",
    "       \n",
    "    # A forward pass with the input batch produces a batch of logits\n",
    "    # In the network that we use here, Softmax is not applied to the output\n",
    "    # This may be different for your network.\n",
    "    logits = dummy_network(input_batch)\n",
    "    \n",
    "    # Final classification predictions are taken by taking an argmax over the logits\n",
    "    # The prediction is converted to a numpy array\n",
    "    prediction = torch.argmax(logits, dim=1).numpy()\n",
    "\n",
    "    ### END EXAMPLE \n",
    "\n",
    "    # Replace the entire section between ### BEGIN EXAMPLE and ### END EXAMPLE \n",
    "    # with your implementation\n",
    "    \n",
    "    # YOUR CODE HERE (please remove 'raise NotImplementedError()')\n",
    "    raise NotImplementedError()\n",
    "    \n",
    "    assert prediction is not None, \"Prediction cannot be None\"\n",
    "    assert isinstance(prediction, np.ndarray), \"Prediction must be a numpy array\"\n",
    "\n",
    "    return prediction"
   ]
  },
  {
   "cell_type": "markdown",
   "id": "43f6fd33",
   "metadata": {
    "deletable": false,
    "editable": false,
    "nbgrader": {
     "cell_type": "markdown",
     "checksum": "2820681a6fc16112534b10dfbeb2347b",
     "grade": false,
     "grade_id": "cell-4ac44e8d4bbf43c0",
     "locked": true,
     "schema_version": 3,
     "solution": false,
     "task": false
    }
   },
   "source": [
    "## Evaluation\n",
    "\n",
    "Your final model will be evaluated on a hidden test set containing images similar to the dataset that you are provided with.\n",
    "\n",
    "For evaluating the performance of your model, we will use the normalized [accuracy_score](https://scikit-learn.org/stable/modules/generated/sklearn.metrics.accuracy_score.html#sklearn.metrics.accuracy_score) metric from sklearn. This is simply the percentage of correct predictions that your model makes for all the images of the hidden test set. Hence, if all the predictions are correct, the score is 1.0 and if all predictions are incorrect, the score is 0.0. We will use the sklearn metric so that the accuracy function is agnostic to the machine learning framework you use."
   ]
  },
  {
   "cell_type": "code",
   "execution_count": null,
   "id": "b5106fc5",
   "metadata": {
    "deletable": false,
    "editable": false,
    "nbgrader": {
     "cell_type": "code",
     "checksum": "663b19833a6fe579d5d735111918221b",
     "grade": false,
     "grade_id": "cell-f6e73b401749aa78",
     "locked": true,
     "schema_version": 3,
     "solution": false,
     "task": false
    }
   },
   "outputs": [],
   "source": [
    "from sklearn.metrics import accuracy_score\n",
    "  \n",
    "def accuracy(dataset_path, max_batches=30):\n",
    "    \"\"\"\n",
    "    Calculates the average prediction accuracy.\n",
    "    \n",
    "    IMPORTANT\n",
    "    =========\n",
    "    In this function, we use PyTorch only for loading the data. When your `leader_board_predict_fn`\n",
    "    function is called, we pass the arguments to it as numpy arrays. The output of `leader_board_predict_fn`\n",
    "    is also expected to be a numpy array. So, as long as your `leader_board_predict_fn` function takes\n",
    "    numpy arrays as input and produces numpy arrays as output (with the proper shapes), it does not\n",
    "    matter what framework you used for training your network or for producing your predictions.\n",
    "    \n",
    "    Args:\n",
    "        dataset_path (str): Path of the dataset directory\n",
    "        \n",
    "    Returns:\n",
    "        accuracy (float): Average accuracy score over all images (float in the range 0.0-1.0)\n",
    "    \"\"\"\n",
    "\n",
    "    # Create a Dataset object\n",
    "    sign_lang_dataset = SignLangDataset(csv_file=\"labels.csv\", root_dir=dataset_path)\n",
    "\n",
    "    # Create a Dataloader\n",
    "    sign_lang_dataloader = DataLoader(sign_lang_dataset, \n",
    "                                      batch_size=64,\n",
    "                                      shuffle=True, \n",
    "                                      drop_last=True,\n",
    "                                      num_workers=0)\n",
    "    \n",
    "    # Calculate accuracy for each batch\n",
    "    accuracies = list()\n",
    "    for batch_idx, sample in enumerate(sign_lang_dataloader):\n",
    "        x = sample[\"image\"].numpy()\n",
    "        y = sample[\"label\"].numpy()\n",
    "        prediction = leader_board_predict_fn(x)\n",
    "        accuracies.append(accuracy_score(y, prediction, normalize=True))\n",
    "        \n",
    "        # We will consider only the first 30 batches\n",
    "        if batch_idx == (max_batches - 1):\n",
    "            break\n",
    "\n",
    "    assert len(accuracies) == max_batches\n",
    "    \n",
    "    # Return the average accuracy\n",
    "    mean_accuracy = np.mean(accuracies)\n",
    "    return mean_accuracy"
   ]
  },
  {
   "cell_type": "markdown",
   "id": "6e0e4307",
   "metadata": {
    "deletable": false,
    "editable": false,
    "nbgrader": {
     "cell_type": "markdown",
     "checksum": "fb526476f67d9f610c05c7b1b41e31eb",
     "grade": false,
     "grade_id": "cell-62e9662dcba00ffe",
     "locked": true,
     "schema_version": 3,
     "solution": false,
     "task": false
    }
   },
   "source": [
    "We will now use your `leader_board_predict_fn` function for calculating the accuracy of your model. We provide the code for testing your loaded model on the visible training data. We will also evaluate your model's performance on the test dataset (the test dataset should only be used for evaluation and is **NOT** to be used for training your model)."
   ]
  },
  {
   "cell_type": "code",
   "execution_count": null,
   "id": "4eebe07a",
   "metadata": {
    "deletable": false,
    "editable": false,
    "nbgrader": {
     "cell_type": "code",
     "checksum": "49bb0771e72597a654efa8ac01ddc729",
     "grade": true,
     "grade_id": "cell-c8f5ac9b0f137931",
     "locked": true,
     "points": 1,
     "schema_version": 3,
     "solution": false,
     "task": false
    }
   },
   "outputs": [],
   "source": [
    "def get_score():\n",
    "    \"\"\"\n",
    "    Function to compute scores for train and test datasets.\n",
    "    \"\"\"\n",
    "    import torch\n",
    "    import numpy as np\n",
    "    from sklearn.metrics import accuracy_score\n",
    "    import os\n",
    "    import pwd\n",
    "    import time\n",
    "    import pathlib\n",
    "    import pandas as pd\n",
    "    import datetime\n",
    "    \n",
    "    ### LEADER BOARD TEST\n",
    "    seed = 200\n",
    "\n",
    "    torch.manual_seed(seed)\n",
    "    np.random.seed(seed)\n",
    "\n",
    "    # Calculate the accuracy on the training dataset\n",
    "    # to check that your `leader_board_predict_fn` function \n",
    "    # works without any error\n",
    "    dataset_score = accuracy(dataset_path=DATASET_PATH)\n",
    "\n",
    "    assert isinstance(dataset_score, float), f\"type of dataset_score is {type(dataset_score)}, but it must be float\"\n",
    "    assert 0.0<=dataset_score<=1.0, f\"Value of dataset_score is {dataset_score}, but it must be between 0.0 and 1.0\"\n",
    "\n",
    "    # This is your accuracy score on the visible training dataset\n",
    "    # This is NOT used for the leaderboard.\n",
    "    print(f\"Accuracy score on training data: {dataset_score}\")\n",
    "\n",
    "    # There is a hidden test that will evaluate your trained model on the hidden test set\n",
    "    # This hidden dataset and the accuracy for this will not be visible to you when you\n",
    "    # validate this notebook. The accuracy score on the hidden dataset will be used\n",
    "    # for calculating your leaderboard score.\n",
    "\n",
    "    seed = 200\n",
    "\n",
    "    torch.manual_seed(seed)\n",
    "    np.random.seed(seed)\n",
    "\n",
    "    user_id = pwd.getpwuid( os.getuid() ).pw_name\n",
    "    curtime = time.time()\n",
    "    dt_now = datetime.datetime.now().strftime(\"%Y-%m-%d %H:%M\")\n",
    "\n",
    "    try:  # \n",
    "        HIDDEN_DATASET_PATH = os.path.expanduser(\"/data/mlproject22-test-data/sign_lang_test\")\n",
    "        hiddendataset_score = accuracy(dataset_path=HIDDEN_DATASET_PATH)\n",
    "\n",
    "        assert isinstance(hiddendataset_score, float), f\"type of dataset_score is {type(dataset_score)}, but it must be float\"\n",
    "        assert 0.0<=hiddendataset_score<=1.0, f\"Value of dataset_score is {dataset_score}, but it must be between 0.0 and 1.0\"\n",
    "\n",
    "        print(f\"Leaderboard score: {hiddendataset_score}\")\n",
    "\n",
    "        score_dict = dict(\n",
    "            score_hidden=hiddendataset_score,\n",
    "            score_train=dataset_score,\n",
    "            unixtime=curtime,\n",
    "            user=user_id,\n",
    "            dt=dt_now,\n",
    "            comment=\"\",\n",
    "        )\n",
    "\n",
    "    except Exception as e:\n",
    "        err = str(e)\n",
    "        score_dict = dict(\n",
    "            score_hidden=float(\"nan\"),\n",
    "            score_train=dataset_score,\n",
    "            unixtime=curtime,\n",
    "            user=user_id,\n",
    "            dt=dt_now,\n",
    "            comment=err\n",
    "        )\n",
    "\n",
    "\n",
    "    #if list(pathlib.Path(os.getcwd()).parents)[0].name == 'source':\n",
    "    #    print(\"we are in the source directory... replacing values.\")\n",
    "    #    print(pd.DataFrame([score_dict]))\n",
    "    #    score_dict[\"score_hidden\"] = -1\n",
    "    #    score_dict[\"score_train\"] = -1\n",
    "    #    print(\"new values:\")\n",
    "    #    print(pd.DataFrame([score_dict]))\n",
    "\n",
    "    pd.DataFrame([score_dict]).to_csv(\"sign_lang.csv\", index=False)\n",
    "\n",
    "    ### LEADER BOARD TEST\n",
    "    \n",
    "get_score()"
   ]
  },
  {
   "cell_type": "code",
   "execution_count": null,
   "id": "bd7b32df",
   "metadata": {},
   "outputs": [],
   "source": []
  }
 ],
 "metadata": {
  "kernelspec": {
   "display_name": "Python 3 (ipykernel)",
   "language": "python",
   "name": "python3"
  },
  "language_info": {
   "codemirror_mode": {
    "name": "ipython",
    "version": 3
   },
   "file_extension": ".py",
   "mimetype": "text/x-python",
   "name": "python",
   "nbconvert_exporter": "python",
   "pygments_lexer": "ipython3",
   "version": "3.9.12"
  },
  "toc": {
   "base_numbering": 1,
   "nav_menu": {},
   "number_sections": true,
   "sideBar": true,
   "skip_h1_title": false,
   "title_cell": "Table of Contents",
   "title_sidebar": "Contents",
   "toc_cell": false,
   "toc_position": {},
   "toc_section_display": true,
   "toc_window_display": false
  },
  "varInspector": {
   "cols": {
    "lenName": 16,
    "lenType": 16,
    "lenVar": 40
   },
   "kernels_config": {
    "python": {
     "delete_cmd_postfix": "",
     "delete_cmd_prefix": "del ",
     "library": "var_list.py",
     "varRefreshCmd": "print(var_dic_list())"
    },
    "r": {
     "delete_cmd_postfix": ") ",
     "delete_cmd_prefix": "rm(",
     "library": "var_list.r",
     "varRefreshCmd": "cat(var_dic_list()) "
    }
   },
   "types_to_exclude": [
    "module",
    "function",
    "builtin_function_or_method",
    "instance",
    "_Feature"
   ],
   "window_display": false
  }
 },
 "nbformat": 4,
 "nbformat_minor": 5
}
